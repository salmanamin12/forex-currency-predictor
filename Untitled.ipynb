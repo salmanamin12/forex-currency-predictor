{
 "cells": [
  {
   "cell_type": "code",
   "execution_count": null,
   "id": "38681343-d51f-4a6e-969a-d5c134c4b4c1",
   "metadata": {},
   "outputs": [],
   "source": [
    "!pip install tensorflow streamlit flask"
   ]
  },
  {
   "cell_type": "code",
   "execution_count": 7,
   "id": "9d97d92d-610b-4d9b-9c96-1ea1f72ac015",
   "metadata": {},
   "outputs": [
    {
     "name": "stdout",
     "output_type": "stream",
     "text": [
      "Shape of scaled_target: (5018, 1)\n"
     ]
    }
   ],
   "source": [
    "import numpy as np\n",
    "import pandas as pd\n",
    "from sklearn.preprocessing import MinMaxScaler\n",
    "import joblib\n",
    "\n",
    "# Load the dataset\n",
    "data = pd.read_csv('Foreign_Exchange_Rates.csv')\n",
    "\n",
    "# Replace 'ND' with NaN\n",
    "data['INDIA - INDIAN RUPEE/US$'] = data['INDIA - INDIAN RUPEE/US$'].replace('ND', np.nan)\n",
    "\n",
    "# Convert the column to numeric\n",
    "data['INDIA - INDIAN RUPEE/US$'] = pd.to_numeric(data['INDIA - INDIAN RUPEE/US$'], errors='coerce')\n",
    "\n",
    "# Drop rows with missing values in the target column\n",
    "data.dropna(subset=['INDIA - INDIAN RUPEE/US$'], inplace=True)\n",
    "\n",
    "# Create the target variable\n",
    "target = data['INDIA - INDIAN RUPEE/US$'].values.reshape(-1, 1)\n",
    "\n",
    "# Check if the target variable is empty\n",
    "if target.shape[0] == 0:\n",
    "    raise ValueError(\"The target variable is empty. Check the dataset for missing or invalid data.\")\n",
    "\n",
    "# Normalize the data\n",
    "scaler = MinMaxScaler(feature_range=(0, 1))\n",
    "scaled_target = scaler.fit_transform(target)\n",
    "joblib.dump(scaler, 'scaler.save')\n",
    "\n",
    "# Create sequences\n",
    "def create_sequences(data, seq_length):\n",
    "    X, y = [], []\n",
    "    for i in range(len(data) - seq_length):\n",
    "        X.append(data[i:i+seq_length])\n",
    "        y.append(data[i+seq_length])\n",
    "    return np.array(X), np.array(y)\n",
    "\n",
    "seq_length = 1000  # Define sequence length (e.g., 60 days)\n",
    "X, y = create_sequences(scaled_target, seq_length)\n",
    "\n",
    "# Split into train/test sets \n",
    "train_size = int(len(X) * 0.8)\n",
    "X_train, X_test = X[:train_size], X[train_size:]\n",
    "y_train, y_test = y[:train_size], y[train_size:]\n",
    "\n",
    "# Print the shape of the scaled target\n",
    "print(\"Shape of scaled_target:\", scaled_target.shape)"
   ]
  },
  {
   "cell_type": "code",
   "execution_count": 9,
   "id": "20ee4ef0-c59d-4d50-9594-82c2ff6ec5fc",
   "metadata": {},
   "outputs": [
    {
     "name": "stdout",
     "output_type": "stream",
     "text": [
      "Epoch 1/10\n",
      "\u001b[1m101/101\u001b[0m \u001b[32m━━━━━━━━━━━━━━━━━━━━\u001b[0m\u001b[37m\u001b[0m \u001b[1m115s\u001b[0m 1s/step - loss: 0.0154 - val_loss: 6.5002e-04\n",
      "Epoch 2/10\n",
      "\u001b[1m101/101\u001b[0m \u001b[32m━━━━━━━━━━━━━━━━━━━━\u001b[0m\u001b[37m\u001b[0m \u001b[1m130s\u001b[0m 1s/step - loss: 4.4484e-04 - val_loss: 4.4119e-04\n",
      "Epoch 3/10\n",
      "\u001b[1m101/101\u001b[0m \u001b[32m━━━━━━━━━━━━━━━━━━━━\u001b[0m\u001b[37m\u001b[0m \u001b[1m140s\u001b[0m 1s/step - loss: 4.3484e-04 - val_loss: 5.8604e-04\n",
      "Epoch 4/10\n",
      "\u001b[1m101/101\u001b[0m \u001b[32m━━━━━━━━━━━━━━━━━━━━\u001b[0m\u001b[37m\u001b[0m \u001b[1m129s\u001b[0m 1s/step - loss: 5.1891e-04 - val_loss: 2.5576e-04\n",
      "Epoch 5/10\n",
      "\u001b[1m101/101\u001b[0m \u001b[32m━━━━━━━━━━━━━━━━━━━━\u001b[0m\u001b[37m\u001b[0m \u001b[1m126s\u001b[0m 1s/step - loss: 3.3322e-04 - val_loss: 2.2473e-04\n",
      "Epoch 6/10\n",
      "\u001b[1m101/101\u001b[0m \u001b[32m━━━━━━━━━━━━━━━━━━━━\u001b[0m\u001b[37m\u001b[0m \u001b[1m146s\u001b[0m 1s/step - loss: 2.9906e-04 - val_loss: 0.0011\n",
      "Epoch 7/10\n",
      "\u001b[1m101/101\u001b[0m \u001b[32m━━━━━━━━━━━━━━━━━━━━\u001b[0m\u001b[37m\u001b[0m \u001b[1m137s\u001b[0m 1s/step - loss: 4.3199e-04 - val_loss: 7.7132e-04\n",
      "Epoch 8/10\n",
      "\u001b[1m101/101\u001b[0m \u001b[32m━━━━━━━━━━━━━━━━━━━━\u001b[0m\u001b[37m\u001b[0m \u001b[1m117s\u001b[0m 1s/step - loss: 3.3016e-04 - val_loss: 7.9168e-04\n",
      "Epoch 9/10\n",
      "\u001b[1m101/101\u001b[0m \u001b[32m━━━━━━━━━━━━━━━━━━━━\u001b[0m\u001b[37m\u001b[0m \u001b[1m118s\u001b[0m 1s/step - loss: 3.8582e-04 - val_loss: 2.4977e-04\n",
      "Epoch 10/10\n",
      "\u001b[1m101/101\u001b[0m \u001b[32m━━━━━━━━━━━━━━━━━━━━\u001b[0m\u001b[37m\u001b[0m \u001b[1m119s\u001b[0m 1s/step - loss: 2.9305e-04 - val_loss: 3.4049e-04\n"
     ]
    },
    {
     "name": "stderr",
     "output_type": "stream",
     "text": [
      "WARNING:absl:You are saving your model as an HDF5 file via `model.save()` or `keras.saving.save_model(model)`. This file format is considered legacy. We recommend using instead the native Keras format, e.g. `model.save('my_model.keras')` or `keras.saving.save_model(model, 'my_model.keras')`. \n"
     ]
    },
    {
     "name": "stdout",
     "output_type": "stream",
     "text": [
      "Model saved as 'currency_exchange_model.h5'\n"
     ]
    }
   ],
   "source": [
    "import tensorflow as tf\n",
    "from tensorflow.keras.models import Sequential\n",
    "from tensorflow.keras.layers import LSTM, Dense, Dropout\n",
    "\n",
    "# Build a deeper model for long sequences\n",
    "model = Sequential([\n",
    "    LSTM(128, return_sequences=True, input_shape=(1000, 1)),\n",
    "    Dropout(0.3),\n",
    "    LSTM(64),\n",
    "    Dense(1)\n",
    "])\n",
    "\n",
    "model.compile(optimizer='adam', loss='mean_squared_error')\n",
    "\n",
    "# Train the model\n",
    "model.fit(X_train, y_train, batch_size=32, epochs=10, validation_data=(X_test, y_test))\n",
    "\n",
    "# Save the model\n",
    "model.save('currency_exchange_model.h5')\n",
    "print(\"Model saved as 'currency_exchange_model.h5'\")"
   ]
  },
  {
   "cell_type": "code",
   "execution_count": 10,
   "id": "e622c4f6-0cee-4768-9add-79a27636c4d0",
   "metadata": {},
   "outputs": [
    {
     "name": "stdout",
     "output_type": "stream",
     "text": [
      "\u001b[1m26/26\u001b[0m \u001b[32m━━━━━━━━━━━━━━━━━━━━\u001b[0m\u001b[37m\u001b[0m \u001b[1m9s\u001b[0m 338ms/step\n",
      "MAE: 0.5695395815265711, RMSE: 0.6615204891954645\n"
     ]
    }
   ],
   "source": [
    "from sklearn.metrics import mean_absolute_error, mean_squared_error\n",
    "\n",
    "# Make predictions\n",
    "predictions = model.predict(X_test)\n",
    "\n",
    "# Inverse transform the predictions and actual values\n",
    "predictions_original = scaler.inverse_transform(predictions)\n",
    "y_test_original = scaler.inverse_transform(y_test)\n",
    "\n",
    "# Calculate metrics\n",
    "mae = mean_absolute_error(y_test_original, predictions_original)\n",
    "rmse = np.sqrt(mean_squared_error(y_test_original, predictions_original))\n",
    "print(f'MAE: {mae}, RMSE: {rmse}')"
   ]
  },
  {
   "cell_type": "code",
   "execution_count": null,
   "id": "11a2058a-a154-40bc-902f-09878d030d85",
   "metadata": {},
   "outputs": [],
   "source": [
    "import requests\n",
    "import numpy as np\n",
    "\n",
    "# Example input data (replace with actual data)\n",
    "# This should be a sequence of 60 days of exchange rates\n",
    "input_data = np.random.rand(1000, 1).tolist()  # Replace with actual data\n",
    "\n",
    "# Send POST request to the API\n",
    "response = requests.post('http://127.0.0.1:5000/predict', json={'data': input_data})\n",
    "print(response.json())"
   ]
  },
  {
   "cell_type": "code",
   "execution_count": null,
   "id": "9dc0bd7b-5e20-4af4-bdc8-02be881d0014",
   "metadata": {},
   "outputs": [],
   "source": []
  }
 ],
 "metadata": {
  "kernelspec": {
   "display_name": "Python 3.11",
   "language": "python",
   "name": "python3.11"
  },
  "language_info": {
   "codemirror_mode": {
    "name": "ipython",
    "version": 3
   },
   "file_extension": ".py",
   "mimetype": "text/x-python",
   "name": "python",
   "nbconvert_exporter": "python",
   "pygments_lexer": "ipython3",
   "version": "3.11.9"
  }
 },
 "nbformat": 4,
 "nbformat_minor": 5
}
